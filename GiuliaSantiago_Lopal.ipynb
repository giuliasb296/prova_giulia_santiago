{
 "cells": [
  {
   "cell_type": "code",
   "execution_count": 80,
   "id": "79ad29bb-413b-4197-946a-1d64202d7a69",
   "metadata": {},
   "outputs": [],
   "source": [
    "uso_cpu = [\n",
    "[20, 25, 40, 50, 45, 60, 55, 35, 70, 65],\n",
    "[30, 35, 50, 60, 40, 55, 60, 45, 50, 55],\n",
    "[15, 20, 30, 25, 35, 40, 45, 50, 55, 60],\n",
    "[10, 15, 25, 35, 45, 50, 55, 60, 65, 70],\n",
    "]"
   ]
  },
  {
   "cell_type": "code",
   "execution_count": null,
   "id": "0d3a7d92-7a40-409f-8503-5ec6d0372b5e",
   "metadata": {},
   "outputs": [
    {
     "name": "stdout",
     "output_type": "stream",
     "text": [
      "O valor máximo de uso para a CPU dessa região foi de 70.\n",
      "O valor máximo de uso para a CPU dessa região foi de 60.\n",
      "O valor máximo de uso para a CPU dessa região foi de 60.\n",
      "O valor máximo de uso para a CPU dessa região foi de 70.\n"
     ]
    }
   ],
   "source": [
    "#exe1\n",
    "def uso_maximo(lista):\n",
    "    maior_uso = 0\n",
    "    for i in lista:\n",
    "        if i > maior_uso:\n",
    "            maior_uso = i\n",
    "    print(f'O valor máximo de uso para a CPU dessa região foi de {maior_uso}.')\n",
    "\n",
    "uso_maximo([20, 25, 40, 50, 45, 60, 55, 35, 70, 65])\n",
    "uso_maximo([30, 35, 50, 60, 40, 55, 60, 45, 50, 55])\n",
    "uso_maximo([15, 20, 30, 25, 35, 40, 45, 50, 55, 60])\n",
    "uso_maximo([10, 15, 25, 35, 45, 50, 55, 60, 65, 70])"
   ]
  },
  {
   "cell_type": "code",
   "execution_count": 82,
   "id": "3feb226f-9625-4406-8a9f-b128f2dbec77",
   "metadata": {},
   "outputs": [
    {
     "name": "stdout",
     "output_type": "stream",
     "text": [
      "5 valores estão acima da média dessa região.\n",
      "6 valores estão acima da média dessa região.\n",
      "5 valores estão acima da média dessa região.\n",
      "6 valores estão acima da média dessa região.\n"
     ]
    }
   ],
   "source": [
    "#exe 2\n",
    "def acima_da_media(lista):\n",
    "    media = sum(lista)/10\n",
    "    acima_media = 0\n",
    "    for i in lista:\n",
    "        if i > media:\n",
    "            acima_media += 1\n",
    "    print(f'{acima_media} valores estão acima da média dessa região.')\n",
    "    \n",
    "acima_da_media([20, 25, 40, 50, 45, 60, 55, 35, 70, 65])\n",
    "acima_da_media([30, 35, 50, 60, 40, 55, 60, 45, 50, 55])\n",
    "acima_da_media([15, 20, 30, 25, 35, 40, 45, 50, 55, 60])\n",
    "acima_da_media([10, 15, 25, 35, 45, 50, 55, 60, 65, 70])"
   ]
  },
  {
   "cell_type": "code",
   "execution_count": 83,
   "id": "217f2a0b-e216-47be-a33d-add5361f49a6",
   "metadata": {},
   "outputs": [
    {
     "data": {
      "text/plain": [
       "[70, 65, 60, 55, 50, 45, 35, 25, 15, 10]"
      ]
     },
     "execution_count": 83,
     "metadata": {},
     "output_type": "execute_result"
    }
   ],
   "source": [
    "# exe 3\n",
    "def dados_decrescentes(lista):\n",
    "   return sorted(lista, reverse = True)\n",
    "    \n",
    "dados_decrescentes([20, 25, 40, 50, 45, 60, 55, 35, 70, 65])\n",
    "dados_decrescentes([30, 35, 50, 60, 40, 55, 60, 45, 50, 55])\n",
    "dados_decrescentes([15, 20, 30, 25, 35, 40, 45, 50, 55, 60])\n",
    "dados_decrescentes([10, 15, 25, 35, 45, 50, 55, 60, 65, 70])"
   ]
  },
  {
   "cell_type": "code",
   "execution_count": 84,
   "id": "919b363d-192f-4a1d-a104-63428bdbe6f5",
   "metadata": {},
   "outputs": [],
   "source": [
    "# exe 4\n",
    "import pandas as pd\n",
    "uso_cpu = [\n",
    "[20, 25, 40, 50, 45, 60, 55, 35, 70, 65],\n",
    "[30, 35, 50, 60, 40, 55, 60, 45, 50, 55],\n",
    "[15, 20, 30, 25, 35, 40, 45, 50, 55, 60],\n",
    "[10, 15, 25, 35, 45, 50, 55, 60, 65, 70],\n",
    "]\n",
    "\n",
    "colunas = [f\"hora_{i}\" for i in range(1, len(uso_cpu[0]) + 1)]\n",
    "linhas = [\"us-east-1\", \"us-west-2\", \"eu-central-1\", \"sa-east-1\"]\n",
    "\n",
    "df = pd.DataFrame(data=uso_cpu, columns=colunas, index=linhas)"
   ]
  },
  {
   "cell_type": "code",
   "execution_count": 85,
   "id": "32d8aa7f-e932-403f-9b9f-015da706a7f6",
   "metadata": {},
   "outputs": [
    {
     "data": {
      "text/html": [
       "<div>\n",
       "<style scoped>\n",
       "    .dataframe tbody tr th:only-of-type {\n",
       "        vertical-align: middle;\n",
       "    }\n",
       "\n",
       "    .dataframe tbody tr th {\n",
       "        vertical-align: top;\n",
       "    }\n",
       "\n",
       "    .dataframe thead th {\n",
       "        text-align: right;\n",
       "    }\n",
       "</style>\n",
       "<table border=\"1\" class=\"dataframe\">\n",
       "  <thead>\n",
       "    <tr style=\"text-align: right;\">\n",
       "      <th></th>\n",
       "      <th>hora_1</th>\n",
       "      <th>hora_2</th>\n",
       "      <th>hora_3</th>\n",
       "      <th>hora_4</th>\n",
       "      <th>hora_5</th>\n",
       "      <th>hora_6</th>\n",
       "      <th>hora_7</th>\n",
       "      <th>hora_8</th>\n",
       "      <th>hora_9</th>\n",
       "      <th>hora_10</th>\n",
       "    </tr>\n",
       "  </thead>\n",
       "  <tbody>\n",
       "    <tr>\n",
       "      <th>us-east-1</th>\n",
       "      <td>20</td>\n",
       "      <td>25</td>\n",
       "      <td>40</td>\n",
       "      <td>50</td>\n",
       "      <td>45</td>\n",
       "      <td>60</td>\n",
       "      <td>55</td>\n",
       "      <td>35</td>\n",
       "      <td>70</td>\n",
       "      <td>65</td>\n",
       "    </tr>\n",
       "    <tr>\n",
       "      <th>us-west-2</th>\n",
       "      <td>30</td>\n",
       "      <td>35</td>\n",
       "      <td>50</td>\n",
       "      <td>60</td>\n",
       "      <td>40</td>\n",
       "      <td>55</td>\n",
       "      <td>60</td>\n",
       "      <td>45</td>\n",
       "      <td>50</td>\n",
       "      <td>55</td>\n",
       "    </tr>\n",
       "    <tr>\n",
       "      <th>eu-central-1</th>\n",
       "      <td>15</td>\n",
       "      <td>20</td>\n",
       "      <td>30</td>\n",
       "      <td>25</td>\n",
       "      <td>35</td>\n",
       "      <td>40</td>\n",
       "      <td>45</td>\n",
       "      <td>50</td>\n",
       "      <td>55</td>\n",
       "      <td>60</td>\n",
       "    </tr>\n",
       "    <tr>\n",
       "      <th>sa-east-1</th>\n",
       "      <td>10</td>\n",
       "      <td>15</td>\n",
       "      <td>25</td>\n",
       "      <td>35</td>\n",
       "      <td>45</td>\n",
       "      <td>50</td>\n",
       "      <td>55</td>\n",
       "      <td>60</td>\n",
       "      <td>65</td>\n",
       "      <td>70</td>\n",
       "    </tr>\n",
       "  </tbody>\n",
       "</table>\n",
       "</div>"
      ],
      "text/plain": [
       "              hora_1  hora_2  hora_3  hora_4  hora_5  hora_6  hora_7  hora_8  \\\n",
       "us-east-1         20      25      40      50      45      60      55      35   \n",
       "us-west-2         30      35      50      60      40      55      60      45   \n",
       "eu-central-1      15      20      30      25      35      40      45      50   \n",
       "sa-east-1         10      15      25      35      45      50      55      60   \n",
       "\n",
       "              hora_9  hora_10  \n",
       "us-east-1         70       65  \n",
       "us-west-2         50       55  \n",
       "eu-central-1      55       60  \n",
       "sa-east-1         65       70  "
      ]
     },
     "metadata": {},
     "output_type": "display_data"
    }
   ],
   "source": [
    "display(df)"
   ]
  },
  {
   "cell_type": "code",
   "execution_count": 86,
   "id": "44c2af99-aabc-48f8-96bd-bb109a917d96",
   "metadata": {},
   "outputs": [],
   "source": [
    "df['Uso_Medio'] = df.mean(axis = 1)"
   ]
  },
  {
   "cell_type": "code",
   "execution_count": 87,
   "id": "c4be64e7-e8f7-4a65-88b9-a09b253584e8",
   "metadata": {},
   "outputs": [
    {
     "data": {
      "text/html": [
       "<div>\n",
       "<style scoped>\n",
       "    .dataframe tbody tr th:only-of-type {\n",
       "        vertical-align: middle;\n",
       "    }\n",
       "\n",
       "    .dataframe tbody tr th {\n",
       "        vertical-align: top;\n",
       "    }\n",
       "\n",
       "    .dataframe thead th {\n",
       "        text-align: right;\n",
       "    }\n",
       "</style>\n",
       "<table border=\"1\" class=\"dataframe\">\n",
       "  <thead>\n",
       "    <tr style=\"text-align: right;\">\n",
       "      <th></th>\n",
       "      <th>hora_1</th>\n",
       "      <th>hora_2</th>\n",
       "      <th>hora_3</th>\n",
       "      <th>hora_4</th>\n",
       "      <th>hora_5</th>\n",
       "      <th>hora_6</th>\n",
       "      <th>hora_7</th>\n",
       "      <th>hora_8</th>\n",
       "      <th>hora_9</th>\n",
       "      <th>hora_10</th>\n",
       "      <th>Uso_Medio</th>\n",
       "    </tr>\n",
       "  </thead>\n",
       "  <tbody>\n",
       "    <tr>\n",
       "      <th>us-east-1</th>\n",
       "      <td>20</td>\n",
       "      <td>25</td>\n",
       "      <td>40</td>\n",
       "      <td>50</td>\n",
       "      <td>45</td>\n",
       "      <td>60</td>\n",
       "      <td>55</td>\n",
       "      <td>35</td>\n",
       "      <td>70</td>\n",
       "      <td>65</td>\n",
       "      <td>46.5</td>\n",
       "    </tr>\n",
       "    <tr>\n",
       "      <th>us-west-2</th>\n",
       "      <td>30</td>\n",
       "      <td>35</td>\n",
       "      <td>50</td>\n",
       "      <td>60</td>\n",
       "      <td>40</td>\n",
       "      <td>55</td>\n",
       "      <td>60</td>\n",
       "      <td>45</td>\n",
       "      <td>50</td>\n",
       "      <td>55</td>\n",
       "      <td>48.0</td>\n",
       "    </tr>\n",
       "    <tr>\n",
       "      <th>eu-central-1</th>\n",
       "      <td>15</td>\n",
       "      <td>20</td>\n",
       "      <td>30</td>\n",
       "      <td>25</td>\n",
       "      <td>35</td>\n",
       "      <td>40</td>\n",
       "      <td>45</td>\n",
       "      <td>50</td>\n",
       "      <td>55</td>\n",
       "      <td>60</td>\n",
       "      <td>37.5</td>\n",
       "    </tr>\n",
       "    <tr>\n",
       "      <th>sa-east-1</th>\n",
       "      <td>10</td>\n",
       "      <td>15</td>\n",
       "      <td>25</td>\n",
       "      <td>35</td>\n",
       "      <td>45</td>\n",
       "      <td>50</td>\n",
       "      <td>55</td>\n",
       "      <td>60</td>\n",
       "      <td>65</td>\n",
       "      <td>70</td>\n",
       "      <td>43.0</td>\n",
       "    </tr>\n",
       "  </tbody>\n",
       "</table>\n",
       "</div>"
      ],
      "text/plain": [
       "              hora_1  hora_2  hora_3  hora_4  hora_5  hora_6  hora_7  hora_8  \\\n",
       "us-east-1         20      25      40      50      45      60      55      35   \n",
       "us-west-2         30      35      50      60      40      55      60      45   \n",
       "eu-central-1      15      20      30      25      35      40      45      50   \n",
       "sa-east-1         10      15      25      35      45      50      55      60   \n",
       "\n",
       "              hora_9  hora_10  Uso_Medio  \n",
       "us-east-1         70       65       46.5  \n",
       "us-west-2         50       55       48.0  \n",
       "eu-central-1      55       60       37.5  \n",
       "sa-east-1         65       70       43.0  "
      ]
     },
     "metadata": {},
     "output_type": "display_data"
    }
   ],
   "source": [
    "display(df)"
   ]
  }
 ],
 "metadata": {
  "kernelspec": {
   "display_name": "Python 3 (ipykernel)",
   "language": "python",
   "name": "python3"
  },
  "language_info": {
   "codemirror_mode": {
    "name": "ipython",
    "version": 3
   },
   "file_extension": ".py",
   "mimetype": "text/x-python",
   "name": "python",
   "nbconvert_exporter": "python",
   "pygments_lexer": "ipython3",
   "version": "3.12.7"
  }
 },
 "nbformat": 4,
 "nbformat_minor": 5
}
